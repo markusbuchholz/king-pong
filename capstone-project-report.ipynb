{
 "cells": [
  {
   "cell_type": "markdown",
   "metadata": {},
   "source": [
    "# Capstone Project\n",
    "## Machine Learning Engineer Nanodegree"
   ]
  },
  {
   "cell_type": "markdown",
   "metadata": {},
   "source": [
    "## Definition\n",
    "### Project Overview\n",
    "For this project we will be creating an agent that can beat a hard coded CPU player in the classic Pong game directly from raw pixels. This is particularly challenge because the agent would have to read raw pixels and this create a large amount of states that has been liability of reinforcement learning.\n",
    "\n",
    "### Problem Statement\n",
    "The following tasks will have to be completed before this project can be called successful.\n",
    "\n",
    "- First we need to create a Pong simulator.\n",
    "- We will need to provided a hard-coded CPU player to use for our base comparisson.\n",
    "- We have to read the raw images from the UI.\n",
    "- Additionally, we will have to create a Deep Neural Network that can interpret and extrapolate efficiently for unseen game states.\n",
    "- Lastly, we need to implement the deep reinforcement learning agent to be able to be competitive against a hard coded CPU player.\n",
    "\n",
    "### Metrics\n",
    "To be more precise we will have to come up with a rating for the agent. Simply, we will match the fully trained player against the hard-coded CPU, stopping the match when **the first player reaches 1000 points**. Our goal is to get to the 1000 points first, but hopefully we can keep the CPU player under 700 points."
   ]
  },
  {
   "cell_type": "markdown",
   "metadata": {},
   "source": [
    "## Analysis\n",
    "### Data Exploration\n",
    "### Exploratory Visualization\n",
    "### Algorithms and Techniques\n",
    "### Benchmark"
   ]
  },
  {
   "cell_type": "markdown",
   "metadata": {},
   "source": [
    "## Methodology\n",
    "### Data Preprocessing\n",
    "### Implementation\n",
    "### Refinement"
   ]
  },
  {
   "cell_type": "markdown",
   "metadata": {},
   "source": [
    "## Results\n",
    "### Model Evaluation and Validation\n",
    "### Justification"
   ]
  },
  {
   "cell_type": "markdown",
   "metadata": {},
   "source": [
    "## Conclusion\n",
    "### Free-Form Visualization\n",
    "### Reflection\n",
    "### Improvement"
   ]
  }
 ],
 "metadata": {
  "kernelspec": {
   "display_name": "Python 3",
   "language": "python",
   "name": "python3"
  },
  "language_info": {
   "codemirror_mode": {
    "name": "ipython",
    "version": 3
   },
   "file_extension": ".py",
   "mimetype": "text/x-python",
   "name": "python",
   "nbconvert_exporter": "python",
   "pygments_lexer": "ipython3",
   "version": "3.4.3"
  }
 },
 "nbformat": 4,
 "nbformat_minor": 0
}
